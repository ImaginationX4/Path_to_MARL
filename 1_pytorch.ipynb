{
  "nbformat": 4,
  "nbformat_minor": 0,
  "metadata": {
    "colab": {
      "provenance": [],
      "toc_visible": true,
      "gpuType": "T4"
    },
    "kernelspec": {
      "name": "python3",
      "display_name": "Python 3"
    },
    "language_info": {
      "name": "python"
    },
    "accelerator": "GPU"
  },
  "cells": [
    {
      "cell_type": "markdown",
      "source": [
        "# PyTorch Workflow"
      ],
      "metadata": {
        "id": "ozC1k1hoZ-Hs"
      }
    },
    {
      "cell_type": "code",
      "source": [
        "import torch\n",
        "from torch import nn # nn contains all of PyTorch's building blocks for neural networks\n",
        "import matplotlib.pyplot as plt\n",
        "\n",
        "# Check PyTorch version\n",
        "torch.__version__"
      ],
      "metadata": {
        "colab": {
          "base_uri": "https://localhost:8080/",
          "height": 35
        },
        "id": "IOX7rFWNa06s",
        "outputId": "b4535f77-0e60-4f45-e501-f292a5a4d115"
      },
      "execution_count": 1,
      "outputs": [
        {
          "output_type": "execute_result",
          "data": {
            "text/plain": [
              "'2.2.1+cu121'"
            ],
            "application/vnd.google.colaboratory.intrinsic+json": {
              "type": "string"
            }
          },
          "metadata": {},
          "execution_count": 1
        }
      ]
    },
    {
      "cell_type": "markdown",
      "source": [
        "\n",
        "\n",
        "## 1.Data (preparing and loading)\n",
        "\n"
      ],
      "metadata": {
        "id": "wBN4KIBraZHE"
      }
    },
    {
      "cell_type": "code",
      "source": [
        "weight = 3.2\n",
        "bias = 1.5\n",
        "X = torch.arange(0,1,0.02).unsqueeze(1)\n",
        "y = weight* X + bias\n",
        "X[:5],y[:5]\n"
      ],
      "metadata": {
        "colab": {
          "base_uri": "https://localhost:8080/"
        },
        "id": "pssBf0MJaloW",
        "outputId": "5cf50b5e-d418-4ef7-9f60-84db324fe926"
      },
      "execution_count": 2,
      "outputs": [
        {
          "output_type": "execute_result",
          "data": {
            "text/plain": [
              "(tensor([[0.0000],\n",
              "         [0.0200],\n",
              "         [0.0400],\n",
              "         [0.0600],\n",
              "         [0.0800]]),\n",
              " tensor([[1.5000],\n",
              "         [1.5640],\n",
              "         [1.6280],\n",
              "         [1.6920],\n",
              "         [1.7560]]))"
            ]
          },
          "metadata": {},
          "execution_count": 2
        }
      ]
    },
    {
      "cell_type": "markdown",
      "source": [
        ">1.1 Split data into training and test sets"
      ],
      "metadata": {
        "id": "WiAL2gfjbdGN"
      }
    },
    {
      "cell_type": "code",
      "source": [
        "train_size = int(len(X)*0.8)\n",
        "X_train, y_train = X[:train_size], y[:train_size]\n",
        "X_test, y_test = X[train_size:], y[train_size:]\n",
        "\n",
        "len(X_train), len(y_train), len(X_test), len(y_test)"
      ],
      "metadata": {
        "id": "4kUCfMM0baKO",
        "colab": {
          "base_uri": "https://localhost:8080/"
        },
        "outputId": "87a8dacd-4754-474d-f553-a6ab6156f316"
      },
      "execution_count": 3,
      "outputs": [
        {
          "output_type": "execute_result",
          "data": {
            "text/plain": [
              "(40, 40, 10, 10)"
            ]
          },
          "metadata": {},
          "execution_count": 3
        }
      ]
    },
    {
      "cell_type": "markdown",
      "source": [
        "1.3 Function for visualizion"
      ],
      "metadata": {
        "id": "MKQmTUhlZoUb"
      }
    },
    {
      "cell_type": "code",
      "source": [
        "def plot_predictions(train_data=X_train,\n",
        "                     train_labels=y_train,\n",
        "                     test_data=X_test,\n",
        "                     test_labels=y_test,\n",
        "                     predictions=None):\n",
        "  plt.figure(figsize=(10, 7))\n",
        "  # Plot training data in blue\n",
        "  plt.scatter(train_data, train_labels, c=\"b\", s=4, label=\"Training data\")\n",
        "  # Plot test data in red\n",
        "  plt.scatter(test_data, test_labels, c='red',s=7, label=\"Test data\")\n",
        "\n",
        "  if predictions is not None:\n",
        "    # Plot the predictions in balck (predictions were made on the test data)\n",
        "    plt.scatter(test_data, predictions, c=\"black\", s=4, label=\"Predictions\")\n",
        "\n",
        "  # Show the legend(data's label)\n",
        "  plt.legend(prop={\"size\": 14});"
      ],
      "metadata": {
        "id": "CtNHqhzvZmY1"
      },
      "execution_count": 4,
      "outputs": []
    },
    {
      "cell_type": "code",
      "source": [
        "plot_predictions()\n"
      ],
      "metadata": {
        "colab": {
          "base_uri": "https://localhost:8080/",
          "height": 599
        },
        "id": "GuzS8i9QcUOh",
        "outputId": "bd3a39dc-7b5d-4ba3-9ccc-ad0609eae732"
      },
      "execution_count": 5,
      "outputs": [
        {
          "output_type": "display_data",
          "data": {
            "text/plain": [
              "<Figure size 1000x700 with 1 Axes>"
            ],
            "image/png": "[encoded data removed]"
          },
          "metadata": {}
        }
      ]
    },
    {
      "cell_type": "markdown",
      "source": [
        "## 2.Build a Model"
      ],
      "metadata": {
        "id": "lbh_eFHDc6Gx"
      }
    },
    {
      "cell_type": "code",
      "source": [
        "class LinearRegressionModel(nn.Module):\n",
        "  def __init__(self):\n",
        "    super().__init__()\n",
        "    self.linear_layer=nn.Linear(in_features=1,out_features=1)\n",
        "  def forward(self, x: torch.Tensor):\n",
        "    return self.linear_layer(x)\n",
        "model_1 = LinearRegressionModel()\n",
        "model_1.state_dict()"
      ],
      "metadata": {
        "colab": {
          "base_uri": "https://localhost:8080/"
        },
        "id": "bMZIjJ4vdPlY",
        "outputId": "122090f4-664f-4418-b373-798699ab78a3"
      },
      "execution_count": 6,
      "outputs": [
        {
          "output_type": "execute_result",
          "data": {
            "text/plain": [
              "OrderedDict([('linear_layer.weight', tensor([[-0.9751]])),\n",
              "             ('linear_layer.bias', tensor([0.1446]))])"
            ]
          },
          "metadata": {},
          "execution_count": 6
        }
      ]
    },
    {
      "cell_type": "markdown",
      "source": [
        "## 3.Train the Model"
      ],
      "metadata": {
        "id": "1-WuRQe4ibHf"
      }
    },
    {
      "cell_type": "code",
      "source": [
        "# Setup device agnostic code\n",
        "device = \"cuda\" if torch.cuda.is_available() else \"cpu\"\n",
        "print(f\"Using device: {device}\")\n",
        "#move model to cuda\n",
        "model_1.to(device)\n",
        "next(model_1.parameters()).device"
      ],
      "metadata": {
        "colab": {
          "base_uri": "https://localhost:8080/"
        },
        "id": "x1Iwj8gliaML",
        "outputId": "c7245371-553f-4af3-ffff-60829e8f28cb"
      },
      "execution_count": 22,
      "outputs": [
        {
          "output_type": "stream",
          "name": "stdout",
          "text": [
            "Using device: cuda\n"
          ]
        },
        {
          "output_type": "execute_result",
          "data": {
            "text/plain": [
              "device(type='cuda', index=0)"
            ]
          },
          "metadata": {},
          "execution_count": 22
        }
      ]
    },
    {
      "cell_type": "code",
      "source": [
        "#setting\n",
        "EOPCH=1000\n",
        "loss_fn = nn.L1Loss()\n",
        "optimizer = torch.optim.SGD(params=model_1.parameters(), # optimize newly created model's parameters\n",
        "                            lr=0.1)\n",
        "X_train = X_train.to(device)\n",
        "X_test = X_test.to(device)\n",
        "y_train = y_train.to(device)\n",
        "y_test = y_test.to(device)\n",
        "\n",
        "#training\n",
        "for epoch in range(EOPCH):\n",
        "  model_1.train()\n",
        "  # 1.result\n",
        "  y_pred = model_1(X_train)\n",
        "  # 2.compare\n",
        "  loss = loss_fn(y_pred, y_train)\n",
        "  # 3.clean the history of optimizier\n",
        "  optimizer.zero_grad()\n",
        "  # 4.calculate the gradient\n",
        "  loss.backward()\n",
        "  # 5.optimizier strat to fix\n",
        "  optimizer.step()\n",
        "\n",
        "  ### TESTING\n",
        "  model_1.eval()\n",
        "  with torch.inference_mode():\n",
        "    test_pred=model_1(X_test)\n",
        "    test_loss=loss_fn(test_pred,y_test)\n",
        "  if epoch%100==0:\n",
        "    print(f'epoch:{epoch}---train_loss:{loss},test_loss:{test_loss}')\n"
      ],
      "metadata": {
        "colab": {
          "base_uri": "https://localhost:8080/"
        },
        "id": "6jYrdXPAiOif",
        "outputId": "ccb71ecc-b69e-4b4f-824d-bdf318d47275"
      },
      "execution_count": 23,
      "outputs": [
        {
          "output_type": "stream",
          "name": "stdout",
          "text": [
            "epoch:0---train_loss:0.025485709309577942,test_loss:0.08083529770374298\n",
            "epoch:100---train_loss:0.025485709309577942,test_loss:0.08083529770374298\n",
            "epoch:200---train_loss:0.025485709309577942,test_loss:0.08083529770374298\n",
            "epoch:300---train_loss:0.025485709309577942,test_loss:0.08083529770374298\n",
            "epoch:400---train_loss:0.025485709309577942,test_loss:0.08083529770374298\n",
            "epoch:500---train_loss:0.025485709309577942,test_loss:0.08083529770374298\n",
            "epoch:600---train_loss:0.025485709309577942,test_loss:0.08083529770374298\n",
            "epoch:700---train_loss:0.025485709309577942,test_loss:0.08083529770374298\n",
            "epoch:800---train_loss:0.025485709309577942,test_loss:0.08083529770374298\n",
            "epoch:900---train_loss:0.025485709309577942,test_loss:0.08083529770374298\n"
          ]
        }
      ]
    },
    {
      "cell_type": "code",
      "source": [
        "dic=model_1.state_dict()\n",
        "w=dic['linear_layer.weight'].item()\n",
        "b=dic['linear_layer.bias'].item()\n",
        "print(f'weight:{w}  bias:{b}')"
      ],
      "metadata": {
        "colab": {
          "base_uri": "https://localhost:8080/"
        },
        "id": "OLT9WApzq43K",
        "outputId": "ecee8f75-4afd-46ed-d4f9-c710e3179f9c"
      },
      "execution_count": 33,
      "outputs": [
        {
          "output_type": "stream",
          "name": "stdout",
          "text": [
            "weight:3.1432220935821533  bias:1.4966577291488647\n"
          ]
        }
      ]
    },
    {
      "cell_type": "markdown",
      "source": [
        "## 4.Make prediction"
      ],
      "metadata": {
        "id": "KsQl3z0isn99"
      }
    },
    {
      "cell_type": "code",
      "source": [
        "# Turn model into evaluation mode\n",
        "model_1.eval()\n",
        "\n",
        "# Make predictions on the test data\n",
        "with torch.inference_mode():\n",
        "    y_preds = model_1(X_test)\n",
        "y_preds##careful it is on gpu"
      ],
      "metadata": {
        "colab": {
          "base_uri": "https://localhost:8080/"
        },
        "id": "M6k_stpjssoS",
        "outputId": "f19b0c4f-a073-410e-8e1f-10af0106336d"
      },
      "execution_count": 34,
      "outputs": [
        {
          "output_type": "execute_result",
          "data": {
            "text/plain": [
              "tensor([[4.0112],\n",
              "        [4.0741],\n",
              "        [4.1370],\n",
              "        [4.1998],\n",
              "        [4.2627],\n",
              "        [4.3256],\n",
              "        [4.3884],\n",
              "        [4.4513],\n",
              "        [4.5142],\n",
              "        [4.5770]], device='cuda:0')"
            ]
          },
          "metadata": {},
          "execution_count": 34
        }
      ]
    },
    {
      "cell_type": "code",
      "source": [
        "plot_predictions(predictions=y_preds.cpu())"
      ],
      "metadata": {
        "colab": {
          "base_uri": "https://localhost:8080/",
          "height": 599
        },
        "id": "hbizis3as94e",
        "outputId": "739b23ef-ddde-44b5-c41e-62d0be03d1ae"
      },
      "execution_count": 35,
      "outputs": [
        {
          "output_type": "display_data",
          "data": {
            "text/plain": [
              "<Figure size 1000x700 with 1 Axes>"
            ],
            "image/png": "[encoded data removed]"
          },
          "metadata": {}
        }
      ]
    },
    {
      "cell_type": "markdown",
      "source": [
        "## 5.Saving and loading a model"
      ],
      "metadata": {
        "id": "8KD7mZFttLGI"
      }
    },
    {
      "cell_type": "code",
      "source": [
        "from pathlib import Path\n",
        "\n",
        "# 1. Create models directory\n",
        "MODEL_PATH = Path(\"models\")\n",
        "MODEL_PATH.mkdir(exist_ok=True)\n",
        "# 2. Create model save path\n",
        "MODEL_NAME = \"01_pytorch_workflow_model_1.pth\"\n",
        "MODEL_SAVE_PATH = MODEL_PATH / MODEL_NAME\n",
        "# 3. Save the model state dict\n",
        "\n",
        "torch.save(obj=model_1.state_dict(), # only saving the state_dict()\n",
        "           f=MODEL_SAVE_PATH)\n",
        "print(f\"Saving model to: {MODEL_SAVE_PATH}\")"
      ],
      "metadata": {
        "colab": {
          "base_uri": "https://localhost:8080/"
        },
        "id": "BbRFR3cntHTq",
        "outputId": "19ffab17-f533-4534-ad46-16072a2c0501"
      },
      "execution_count": 46,
      "outputs": [
        {
          "output_type": "stream",
          "name": "stdout",
          "text": [
            "Saving model to: models/01_pytorch_workflow_model_1.pth\n"
          ]
        }
      ]
    },
    {
      "cell_type": "code",
      "source": [
        "loaded_model_1=LinearRegressionModel()\n",
        "\n",
        "# Load model state dict\n",
        "loaded_model_1.load_state_dict(torch.load(MODEL_SAVE_PATH))"
      ],
      "metadata": {
        "colab": {
          "base_uri": "https://localhost:8080/"
        },
        "id": "Yh9famtvxOOB",
        "outputId": "a76c2ffd-314b-48ab-b15e-94c7cdd9c057"
      },
      "execution_count": 47,
      "outputs": [
        {
          "output_type": "execute_result",
          "data": {
            "text/plain": [
              "<All keys matched successfully>"
            ]
          },
          "metadata": {},
          "execution_count": 47
        }
      ]
    },
    {
      "cell_type": "markdown",
      "source": [
        "Why don't we test data on loaded Model, see if they are the same as model we trained before?"
      ],
      "metadata": {
        "id": "MM6c-WWtxzpR"
      }
    },
    {
      "cell_type": "code",
      "source": [
        "loaded_model_1.to(device)\n",
        "loaded_model_1.eval()\n",
        "with torch.inference_mode():\n",
        "  loaded_model_1_preds=loaded_model_1(X_test)\n",
        "y_preds == loaded_model_1_preds"
      ],
      "metadata": {
        "colab": {
          "base_uri": "https://localhost:8080/"
        },
        "id": "uRBElzhtxwJC",
        "outputId": "ec29401b-431f-4e59-d148-08b0f87c1467"
      },
      "execution_count": 54,
      "outputs": [
        {
          "output_type": "execute_result",
          "data": {
            "text/plain": [
              "tensor([[True],\n",
              "        [True],\n",
              "        [True],\n",
              "        [True],\n",
              "        [True],\n",
              "        [True],\n",
              "        [True],\n",
              "        [True],\n",
              "        [True],\n",
              "        [True]], device='cuda:0')"
            ]
          },
          "metadata": {},
          "execution_count": 54
        }
      ]
    }
  ]
}
